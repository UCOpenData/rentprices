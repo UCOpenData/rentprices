{
 "cells": [
  {
   "cell_type": "code",
   "execution_count": 4,
   "metadata": {},
   "outputs": [],
   "source": [
    "import requests\n",
    "import csv\n",
    "import json\n",
    "\n",
    "# Making a latitude and longitude list for Hyde Park area\n",
    "\n",
    "locations = list()\n",
    "\n",
    "# for loc in googlemap:\n",
    "#     locations.append(loc)\n"
   ]
  },
  {
   "cell_type": "code",
   "execution_count": null,
   "metadata": {},
   "outputs": [],
   "source": [
    "# Pulling from API using our locations list\n",
    "\n",
    "url = \"https://realty-mole-property-api.p.rapidapi.com/rentalListings\"\n",
    "\n",
    "querystring = {\"city\": \"Chicago\", \"state\": \"IL\", \"limit\": \"50\"}\n",
    "\n",
    "headers = {\n",
    "    \"X-RapidAPI-Key\": \"b2ebc77f73msh9099be7b3075e9ap15172cjsn728ce4c91f82\",\n",
    "    \"X-RapidAPI-Host\": \"realty-mole-property-api.p.rapidapi.com\",\n",
    "}\n",
    "\n",
    "response = requests.request(\"GET\", url, headers=headers, params=querystring)\n",
    "\n",
    "response_dict = json.loads(response.text)\n"
   ]
  },
  {
   "cell_type": "code",
   "execution_count": null,
   "metadata": {},
   "outputs": [],
   "source": [
    "# Reading into a CSV file\n",
    "\n",
    "csv_columns = [\n",
    "    \"formattedAddress\",\n",
    "    \"addressLine1\",\n",
    "    \"city\",\n",
    "    \"state\",\n",
    "    \"zipCode\",\n",
    "    \"price\",\n",
    "    \"lastSeen\",\n",
    "    \"createdDate\",\n",
    "    \"rawAddress\",\n",
    "    \"county\",\n",
    "    \"propertyType\",\n",
    "    \"listedDate\",\n",
    "    \"status\",\n",
    "    \"removedDate\",\n",
    "    \"daysOnMarket\",\n",
    "    \"id\",\n",
    "    \"latitude\",\n",
    "    \"longitude\",\n",
    "    \"bathrooms\",\n",
    "    \"bedrooms\",\n",
    "    \"addressLine2\",\n",
    "    \"squareFootage\",\n",
    "    \"yearBuilt\",\n",
    "    \"lotSize\",\n",
    "]\n",
    "for dict in response_dict:\n",
    "    for key in dict:\n",
    "        if key not in csv_columns:\n",
    "            csv_columns.append(key)\n",
    "\n",
    "with open(\"example.csv\", \"w\") as file:\n",
    "    csvwriter = csv.DictWriter(file, fieldnames=csv_columns)\n",
    "    csvwriter.writeheader()\n",
    "    csvwriter.writerows(response_dict)"
   ]
  }
 ],
 "metadata": {
  "kernelspec": {
   "display_name": "Python 3.9.6 64-bit",
   "language": "python",
   "name": "python3"
  },
  "language_info": {
   "codemirror_mode": {
    "name": "ipython",
    "version": 3
   },
   "file_extension": ".py",
   "mimetype": "text/x-python",
   "name": "python",
   "nbconvert_exporter": "python",
   "pygments_lexer": "ipython3",
   "version": "3.9.6"
  },
  "orig_nbformat": 4,
  "vscode": {
   "interpreter": {
    "hash": "aee8b7b246df8f9039afb4144a1f6fd8d2ca17a180786b69acc140d282b71a49"
   }
  }
 },
 "nbformat": 4,
 "nbformat_minor": 2
}
